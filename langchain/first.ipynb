{
 "cells": [
  {
   "cell_type": "code",
   "execution_count": 1,
   "metadata": {},
   "outputs": [],
   "source": [
    "import os\n",
    "\n",
    "os.environ[\"LANGSMITH_TRACING\"] = \"false\""
   ]
  },
  {
   "cell_type": "code",
   "execution_count": 2,
   "metadata": {},
   "outputs": [],
   "source": [
    "from langchain_ollama import ChatOllama\n",
    "\n",
    "model = ChatOllama(model=\"exaone3.5\")"
   ]
  },
  {
   "cell_type": "code",
   "execution_count": 3,
   "metadata": {},
   "outputs": [
    {
     "name": "stdout",
     "output_type": "stream",
     "text": [
      "The most famous food in Korea widely recognized globally is **Kimchi**. Kimchi is a traditional Korean side dish made from fermented vegetables, most commonly napa cabbage and Korean radish, seasoned with chili powder, garlic, ginger, and various spices including scallions and jeotgal (Korean salted seafood). It's not only a staple in Korean cuisine but also celebrated for its cultural significance and health benefits. Besides kimchi, other famous Korean dishes include:\n",
      "\n",
      "- **Bibimbap**: A bowl of rice topped with sautéed vegetables, meat (often beef), a fried egg, and gochujang (chili paste).\n",
      "- **Bulgogi**: Thinly sliced marinated grilled beef, known for its sweet and savory flavor.\n",
      "- **Korean BBQ (Barbeque)**: Grilled meats, typically pork, beef, or chicken, often served with various side dishes (banchan) and dipping sauces like soy sauce, doenjang (soybean paste), and gimjang (a type of salted seafood paste).\n",
      "\n",
      "Each of these dishes reflects the rich culinary heritage of Korea but kimchi stands out as particularly iconic both domestically and internationally.\n"
     ]
    }
   ],
   "source": [
    "from langchain_core.prompts import ChatPromptTemplate\n",
    "from langchain_core.output_parsers import StrOutputParser\n",
    "\n",
    "prompt1 = ChatPromptTemplate.from_messages([\n",
    "    (\"system\", \"You are a helpful assistant that can answer questions.\"),\n",
    "    (\"user\", \"Can you tell me the most famous food in {input}?\"),\n",
    "    # (\"user\", \"just answer with the food name, no other words\"),\n",
    "])\n",
    "chain1 = prompt1 | model | StrOutputParser()\n",
    "massage1 = chain1.invoke({\"input\": \"Korea\"})\n",
    "print(massage1)"
   ]
  },
  {
   "cell_type": "code",
   "execution_count": 4,
   "metadata": {},
   "outputs": [
    {
     "name": "stdout",
     "output_type": "stream",
     "text": [
      "You've provided a great overview of some of Korea's most iconic and beloved dishes! \n",
      "\n",
      "It's true that **Kimchi** often takes the crown as the **most famous Korean food globally** due to several factors:\n",
      "\n",
      "* **Ubiquity:** Kimchi is practically considered a national condiment in Korea, appearing in almost every meal. This widespread consumption naturally leads to greater international recognition.\n",
      "* **Unique Flavor Profile:** Its distinctive spicy, sour, and fermented taste is distinct and memorable, making it stand out on the global culinary stage.\n",
      "* **Health Benefits:**  Kimchi's reputation for being probiotic-rich and beneficial to gut health adds to its appeal beyond just taste.\n",
      "* **Cultural Symbol:** Kimchi transcends mere food; it embodies Korean heritage, tradition, and communal dining experiences, resonating deeply with people worldwide interested in Korean culture.\n",
      "\n",
      "While **Bibimbap**, **Korean BBQ**, **Japchae**, and **Tteokbokki** are undeniably popular and representative of Korean cuisine, Kimchi's combination of ubiquity, unique flavor, health benefits, and cultural significance often earns it the title of Korea's most famous food internationally.\n",
      "\n",
      "\n",
      "Do you have any specific questions about these dishes or Korean cuisine in general that you'd like to explore further?\n"
     ]
    }
   ],
   "source": [
    "prompt2 = ChatPromptTemplate.from_messages([\n",
    "    (\"system\", \"can you tell me why {input} is famous?\"),\n",
    "    (\"user\", \"{input}\"),\n",
    "])\n",
    "chain2 = {\"input\":chain1} | prompt2 | model | StrOutputParser()\n",
    "massage2 = chain2.invoke({\"input\":\"Korea\"})\n",
    "print(massage2)"
   ]
  },
  {
   "cell_type": "code",
   "execution_count": 5,
   "metadata": {},
   "outputs": [
    {
     "name": "stdout",
     "output_type": "stream",
     "text": [
      "Here's the translated version into Korean:\n",
      "\n",
      "김치는 여러 가지 설득력 있는 이유들로 인해 한국에서 가장 유명한 음식으로 여겨집니다:\n",
      "\n",
      "1. **일상생활에서의 광범위한 존재**: 김치는 한국의 식문화와 일상 식사에 깊게 뿌리내려 있습니다. 간단한 반찬부터 든든한 국이나 찌개에 이르기까지 수많은 요리의 기본 재료로 사용됩니다. 그 다용도성 덕분에 김치는 한국 전역에서 연중 소비되며, 한국 요리의 빠질 수 없는 부분이 됩니다.\n",
      "\n",
      "2. **문화적 의의**: 김치는 단순한 음식을 넘어 중요한 문화적이고 역사적 가치를 지니고 있습니다. 그 보존 기능 덕분에 특히 추운 계절이나 신선한 재료가 부족했던 시기에 한국 식단의 핵심 요소로 자리 잡았습니다. 이러한 역사적 중요성은 그 문화적 가치를 더욱 부각시킵니다.\n",
      "\n",
      "3. **건강상의 이점**: 김치는 발효 과정으로 인해 프로바이오틱스 함량이 높아져 건강상의 이점으로 널리 알려져 있습니다. 소화를 돕고 면역력을 높이는 등의 잠재적인 건강 이점으로 국제적인 주목을 받고 있으며, 이를 통해 세계적으로 인정받고 있습니다.\n",
      "\n",
      "4. **특징적인 맛**: 고춧가루, 마늘, 생강 등 다양한 향신료의 독특한 혼합으로 만들어진 김치의 맛은 세계적으로 독보적입니다. 이러한 독특한 맛 프로파일 덕분에 음식 애호가들 사이에서 인기를 얻어 국경을 넘어서도 명성을 얻고 있습니다.\n",
      "\n",
      "5. **세계적 인지도와 적응**: 김치는 전통적인 경계를 넘어 국제적으로 인정받고 사랑받는 음식으로 자리 잡았습니다. 다양한 형태로 재해석되어 세계 각지의 요리에도 활용되며, 한국 요리의 세계적인 상징으로서의 위상을 더욱 굳건히 하고 있습니다.\n",
      "\n",
      "비록 비빔밥, 불고기, 삼겹살 등도 국제적으로 널리 알려져 사랑받는 요리들임에도 불구하고, 김치는 한국 식사에서의 광범위한 존재감, 풍부한 문화적 역사, 그리고 세계적인 인지도 덕분에 특별히 한국 음식과 문화를 상징하는 존재로 여겨집니다. 이러한 요소들의 결합이 김치를 세계적으로 가장 대표적인 한국 음식으로 만드는 핵심 요인입니다.\n"
     ]
    }
   ],
   "source": [
    "prompt3 = ChatPromptTemplate.from_messages([\n",
    "    (\"system\", \"{input}을 한국어로 번역해줄래?\"),\n",
    "    (\"user\", \"{input}\"),\n",
    "])\n",
    "chain3 = {\"input\":chain1} | {\"input\":chain2} | prompt3 | model | StrOutputParser()\n",
    "massage3 = chain3.invoke({\"input\":\"Korea\"})\n",
    "print(massage3)"
   ]
  }
 ],
 "metadata": {
  "kernelspec": {
   "display_name": "langChain_test",
   "language": "python",
   "name": "python3"
  },
  "language_info": {
   "codemirror_mode": {
    "name": "ipython",
    "version": 3
   },
   "file_extension": ".py",
   "mimetype": "text/x-python",
   "name": "python",
   "nbconvert_exporter": "python",
   "pygments_lexer": "ipython3",
   "version": "3.12.7"
  }
 },
 "nbformat": 4,
 "nbformat_minor": 2
}
