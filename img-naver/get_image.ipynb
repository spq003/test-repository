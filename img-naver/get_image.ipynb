{
 "cells": [
  {
   "cell_type": "code",
   "execution_count": 7,
   "metadata": {},
   "outputs": [
    {
     "name": "stdout",
     "output_type": "stream",
     "text": [
      "메인 이미지 섹션을 찾을 수 없습니다.\n"
     ]
    }
   ],
   "source": [
    "import requests\n",
    "from bs4 import BeautifulSoup\n",
    "\n",
    "def get_first_naver_main_image(query, save_path=\"image.jpg\"):\n",
    "    \"\"\"네이버 이미지 검색에서 메인 이미지 가져와 저장\"\"\"\n",
    "    search_url = f\"https://search.naver.com/search.naver?where=image&sm=tab_jum&query={query}\"\n",
    "\n",
    "    headers = {\n",
    "        \"User-Agent\": \"Mozilla/5.0 (X11; Linux x86_64) AppleWebKit/537.36 (KHTML, like Gecko) Chrome/110.0.0.0 Safari/537.36\"\n",
    "    }\n",
    "\n",
    "    try:\n",
    "        response = requests.get(search_url, headers=headers)\n",
    "        response.raise_for_status()\n",
    "\n",
    "        soup = BeautifulSoup(response.text, \"html.parser\")\n",
    "\n",
    "        # 메인 이미지가 있는 div 찾기\n",
    "        main_div = soup.find(\"div\", class_=\"tile_item _fe_image_tab_content_tile\", attrs={\"data-rank\": \"1\"})\n",
    "\n",
    "        if main_div:\n",
    "            img_tag = main_div.find(\"img\")  # 내부의 img 태그 찾기\n",
    "            if img_tag and img_tag.get(\"src\"):\n",
    "                img_url = img_tag[\"src\"]\n",
    "\n",
    "                # 이미지 다운로드\n",
    "                img_response = requests.get(img_url, stream=True)\n",
    "                img_response.raise_for_status()\n",
    "\n",
    "                with open(save_path, \"wb\") as file:\n",
    "                    for chunk in img_response.iter_content(1024):\n",
    "                        file.write(chunk)\n",
    "\n",
    "                print(f\"이미지가 저장되었습니다: {save_path}\")\n",
    "                return\n",
    "            else:\n",
    "                print(\"이미지 태그를 찾을 수 없습니다.\")\n",
    "        else:\n",
    "            print(\"메인 이미지 섹션을 찾을 수 없습니다.\")\n",
    "\n",
    "    except requests.exceptions.RequestException as e:\n",
    "        print(f\"오류 발생: {e}\")\n",
    "\n",
    "# 사용 예시\n",
    "get_first_naver_main_image(\"고양이\", \"img.jpg\")\n"
   ]
  }
 ],
 "metadata": {
  "kernelspec": {
   "display_name": "clova-speech",
   "language": "python",
   "name": "python3"
  },
  "language_info": {
   "codemirror_mode": {
    "name": "ipython",
    "version": 3
   },
   "file_extension": ".py",
   "mimetype": "text/x-python",
   "name": "python",
   "nbconvert_exporter": "python",
   "pygments_lexer": "ipython3",
   "version": "3.12.9"
  }
 },
 "nbformat": 4,
 "nbformat_minor": 2
}
