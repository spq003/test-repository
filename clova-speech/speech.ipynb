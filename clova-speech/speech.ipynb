{
 "cells": [
  {
   "cell_type": "code",
   "execution_count": 2,
   "metadata": {},
   "outputs": [
    {
     "name": "stdout",
     "output_type": "stream",
     "text": [
      "Available audio input devices:\n",
      "Index 0: Microsoft Sound Mapper - Input\n",
      "Index 1: IN 7-8(BEHRINGER X-AIR)\n",
      "Index 2: IN 1-2(BEHRINGER X-AIR)\n",
      "Index 3: IN 1-8(BEHRINGER X-AIR)\n",
      "Index 4: IN 5-6(BEHRINGER X-AIR)\n",
      "Index 5: IN 3-4(BEHRINGER X-AIR)\n",
      "Index 12: 주 사운드 캡처 드라이버\n",
      "Index 13: IN 7-8(BEHRINGER X-AIR)\n",
      "Index 14: IN 1-2(BEHRINGER X-AIR)\n",
      "Index 15: IN 1-8(BEHRINGER X-AIR)\n",
      "Index 16: IN 5-6(BEHRINGER X-AIR)\n",
      "Index 17: IN 3-4(BEHRINGER X-AIR)\n",
      "Index 29: IN 1-2(BEHRINGER X-AIR)\n",
      "Index 30: IN 1-8(BEHRINGER X-AIR)\n",
      "Index 31: IN 5-6(BEHRINGER X-AIR)\n",
      "Index 32: IN 3-4(BEHRINGER X-AIR)\n",
      "Index 33: IN 7-8(BEHRINGER X-AIR)\n",
      "Index 34: IN 5-6 (IN 5-6)\n",
      "Index 38: IN 3-4 (IN 3-4)\n",
      "Index 39: IN 7-8 (IN 7-8)\n",
      "Index 42: IN 1-2 (IN 1-2)\n",
      "Index 43: IN 1-8 (IN 1-8)\n"
     ]
    }
   ],
   "source": [
    "# 오디오 장치 인덱스 출력\n",
    "import pyaudio\n",
    "\n",
    "audio = pyaudio.PyAudio()\n",
    "\n",
    "print(\"Available audio input devices:\")\n",
    "for i in range(audio.get_device_count()):\n",
    "    dev = audio.get_device_info_by_index(i)\n",
    "    if dev['maxInputChannels'] > 0:\n",
    "        print(f\"Index {i}: {dev['name']}\")\n",
    "\n",
    "audio.terminate()\n"
   ]
  },
  {
   "cell_type": "code",
   "execution_count": 2,
   "metadata": {},
   "outputs": [
    {
     "name": "stdout",
     "output_type": "stream",
     "text": [
      "Recording... Press Enter to stop.\n",
      "Recording finished.\n"
     ]
    }
   ],
   "source": [
    "# 녹음 파일 만들기\n",
    "\n",
    "import pyaudio\n",
    "import wave\n",
    "import keyboard\n",
    "from pydub import AudioSegment\n",
    "\n",
    "# 설정\n",
    "FORMAT = pyaudio.paInt16\n",
    "CHANNELS = 1\n",
    "RATE = 44100\n",
    "CHUNK = 1024\n",
    "WAV_OUTPUT_FILENAME = \"output.wav\"\n",
    "MP3_OUTPUT_FILENAME = \"output.mp3\"\n",
    "\n",
    "def record_audio():\n",
    "    audio = pyaudio.PyAudio()\n",
    "    stream = audio.open(format=FORMAT, channels=CHANNELS,\n",
    "                        rate=RATE, input=True,\n",
    "                        input_device_index=2,\n",
    "                        frames_per_buffer=CHUNK)\n",
    "    print(\"Recording... Press Enter to stop.\")\n",
    "    frames = []\n",
    "\n",
    "    while True:\n",
    "        data = stream.read(CHUNK)\n",
    "        frames.append(data)\n",
    "        if keyboard.is_pressed('enter'):\n",
    "            break\n",
    "\n",
    "    print(\"Recording finished.\")\n",
    "    \n",
    "    stream.stop_stream()\n",
    "    stream.close()\n",
    "    audio.terminate()\n",
    "\n",
    "    with wave.open(WAV_OUTPUT_FILENAME, 'wb') as wf:\n",
    "        wf.setnchannels(CHANNELS)\n",
    "        wf.setsampwidth(audio.get_sample_size(FORMAT))\n",
    "        wf.setframerate(RATE)\n",
    "        wf.writeframes(b''.join(frames))\n",
    "\n",
    "if __name__ == \"__main__\":\n",
    "    record_audio()"
   ]
  },
  {
   "cell_type": "code",
   "execution_count": 58,
   "metadata": {},
   "outputs": [
    {
     "name": "stdout",
     "output_type": "stream",
     "text": [
      "파일 변환 성공: output.aac\n"
     ]
    }
   ],
   "source": [
    "import subprocess\n",
    "\n",
    "def convert_wav_to_aac(input_wav, output_aac):\n",
    "    # FFmpeg 실행 파일 경로 (경로를 실제 FFmpeg 경로로 바꿔주세요)\n",
    "    ffmpeg_path = r\"C:\\ffmpeg-7.1.1-full_build\\bin\\ffmpeg.exe\"\n",
    "    \n",
    "    # FFmpeg 명령어로 WAV를 AAC로 변환\n",
    "    command = [\n",
    "        ffmpeg_path, \n",
    "        '-i', input_wav,      # 입력 파일\n",
    "        '-c:a', 'aac',        # AAC 코덱 사용\n",
    "        '-b:a', '192k',       # 비트레이트 (192kbps, 필요에 따라 조정)\n",
    "        output_aac            # 출력 파일\n",
    "    ]\n",
    "    \n",
    "    # subprocess를 이용해 FFmpeg 명령어 실행\n",
    "    try:\n",
    "        subprocess.run(command, check=True)\n",
    "        print(f\"파일 변환 성공: {output_aac}\")\n",
    "    except subprocess.CalledProcessError as e:\n",
    "        print(f\"변환 중 오류 발생: {e}\")\n",
    "\n",
    "if __name__ == \"__main__\":\n",
    "    input_wav = \"./output.wav\"  # 변환할 WAV 파일 경로\n",
    "    output_aac = \"output.aac\"  # 출력할 AAC 파일 경로\n",
    "    convert_wav_to_aac(input_wav, output_aac)"
   ]
  },
  {
   "cell_type": "code",
   "execution_count": null,
   "metadata": {},
   "outputs": [
    {
     "name": "stdout",
     "output_type": "stream",
     "text": [
      "b'{\"language\": \"ko-KR\", \"completion\": \"sync\", \"callback\": null, \"userdata\": null, \"wordAlignment\": true, \"fullText\": true, \"forbiddens\": null, \"boostings\": null, \"diarization\": {\"enable\": \"false\"}, \"sed\": null}'\n"
     ]
    }
   ],
   "source": [
    "import requests\n",
    "import json\n",
    "\n",
    "class ClovaSpeechClient:\n",
    "    # Clova Speech invoke URL (앱 등록 시 발급받은 Invoke URL)\n",
    "    invoke_url = 'https://clovaspeech-gw.ncloud.com/invokeURL'\n",
    "    # Clova Speech secret key (앱 등록 시 발급받은 Secret Key)\n",
    "    secret = 'secretKey'\n",
    "\n",
    "    def req_upload(self, file, completion, callback=None, userdata=None, forbiddens=None, boostings=None,\n",
    "                   wordAlignment=True, fullText=True, diarization=None, sed=None):\n",
    "        request_body = {\n",
    "            'language': 'ko-KR',\n",
    "            'completion': completion,\n",
    "            'callback': callback,\n",
    "            'userdata': userdata,\n",
    "            'wordAlignment': wordAlignment,\n",
    "            'fullText': fullText,\n",
    "            'forbiddens': forbiddens,\n",
    "            'boostings': boostings,\n",
    "            'diarization': {\"enable\": diarization},\n",
    "            'sed': sed,\n",
    "        }\n",
    "        headers = {\n",
    "            'Accept': 'application/json;UTF-8',\n",
    "            'X-CLOVASPEECH-API-KEY': self.secret\n",
    "        }\n",
    "        print(json.dumps(request_body, ensure_ascii=False).encode('UTF-8'))\n",
    "        files = {\n",
    "            'media': open(file, 'rb'),\n",
    "            'params': (None, json.dumps(request_body, ensure_ascii=False).encode('UTF-8'), 'application/json')\n",
    "        }\n",
    "        response = requests.post(headers=headers, url=self.invoke_url + '/recognizer/upload', files=files)\n",
    "        return response\n",
    "\n",
    "if __name__ == '__main__':\n",
    "    res = ClovaSpeechClient().req_upload(file='./output.aac', completion='sync', diarization='false')\n",
    "    print(res)\n",
    "    \n",
    "    "
   ]
  },
  {
   "cell_type": "code",
   "execution_count": 48,
   "metadata": {},
   "outputs": [
    {
     "name": "stdout",
     "output_type": "stream",
     "text": [
      "유명 보석상이 소유한 다이아몬드 목걸이가 도난당했습니다. 목걸이가 사라진 날 밤 보석상에는 2명의 직원이 있었고 그중 1명이 절도 혐의를 받고 있습니다.\n"
     ]
    }
   ],
   "source": [
    "print(res.json().get(\"text\"))"
   ]
  }
 ],
 "metadata": {
  "kernelspec": {
   "display_name": "clova-speech",
   "language": "python",
   "name": "python3"
  },
  "language_info": {
   "codemirror_mode": {
    "name": "ipython",
    "version": 3
   },
   "file_extension": ".py",
   "mimetype": "text/x-python",
   "name": "python",
   "nbconvert_exporter": "python",
   "pygments_lexer": "ipython3",
   "version": "3.12.9"
  }
 },
 "nbformat": 4,
 "nbformat_minor": 2
}
